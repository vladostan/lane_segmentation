{
 "cells": [
  {
   "cell_type": "code",
   "execution_count": 1,
   "metadata": {},
   "outputs": [
    {
     "name": "stderr",
     "output_type": "stream",
     "text": [
      "Failed to load Python extension for LZ4 support. LZ4 compression will not be available.\n"
     ]
    }
   ],
   "source": [
    "import os\n",
    "import cv2\n",
    "import numpy as np\n",
    "\n",
    "import rosbag\n",
    "from sensor_msgs.msg import Image\n",
    "from sensor_msgs.msg import CompressedImage\n",
    "from cv_bridge import CvBridge"
   ]
  },
  {
   "cell_type": "code",
   "execution_count": 2,
   "metadata": {},
   "outputs": [],
   "source": [
    "bag_name = \"2019-01-31-15-11-58_0\"\n",
    "bag_file = \"/home/kenny/Desktop/kiadatasets/polygonJan31/\"+ bag_name + \".bag\"\n",
    "output_dir = \"/home/kenny/Desktop/lanes-segmentation/data/images/\"\n",
    "# image_topic = \"/pylon_camera_node/image_raw/compressed\"\n",
    "# image_topic = \"sensor_msgs/CompressedImage\"\n",
    "image_topic = \"/apollo/sensor/camera/perception/image_front_camera/compressed\"\n",
    "compressed = True\n",
    "step = 75"
   ]
  },
  {
   "cell_type": "code",
   "execution_count": 3,
   "metadata": {},
   "outputs": [],
   "source": [
    "if not os.path.exists(output_dir+bag_name):\n",
    "    os.makedirs(output_dir+bag_name)"
   ]
  },
  {
   "cell_type": "code",
   "execution_count": 4,
   "metadata": {},
   "outputs": [],
   "source": [
    "bag = rosbag.Bag(bag_file, \"r\")\n",
    "bridge = CvBridge()\n",
    "count = 0"
   ]
  },
  {
   "cell_type": "code",
   "execution_count": 5,
   "metadata": {},
   "outputs": [
    {
     "data": {
      "text/plain": [
       "TypesAndTopicsTuple(msg_types={'nav_msgs/Odometry': 'cd5e73d190d741a2f92e81eda573aca7', 'pb_msgs/ADCTrajectory': '97587fe9a5b2df2b61888d56c6fc697b', 'pb_msgs/Chassis': 'd6a21658031a6a4615858d76f8b5178e', 'pb_msgs/ControlCommand': '67f7ff8a4c675dc97a8c7ce6d6289943', 'pb_msgs/LocalizationEstimate': '503c8e75900db180bc61534806a37cfb', 'pb_msgs/MonitorMessage': 'ada339d65883d2037c88f67d8b43f957', 'pb_msgs/PadMessage': '35ef81c50bd776c0c53a0b3b8572bb6e', 'pb_msgs/RoutingRequest': 'fa777a90ccdc55e9e7812c6aa1476814', 'pb_msgs/RoutingResponse': 'f4936637bc954aa0fe6b9c92647c08d4', 'pb_msgs/StaticInfo': '1f9ebf2f7706a44c409186ab47c0fba0', 'pb_msgs/SystemStatus': '8facb475fa30a9165ee1b95fbb179dd2', 'sensor_msgs/CompressedImage': '8f7a12909da2c9d3332d540a0977563f', 'sensor_msgs/Imu': '6a62c6daae103f4ff57a132d6f95cec2', 'sensor_msgs/NavSatFix': '2d3a8cd499b9b4a0249fb98fd05cfa48', 'sensor_msgs/PointCloud2': '1158d486dd51d683ce2f1be655c3c181', 'tf2_msgs/TFMessage': '94810edda583a504dfda3829e70d7eec'}, topics={'/apollo/canbus/chassis': TopicTuple(msg_type='pb_msgs/Chassis', message_count=3439, connections=1, frequency=98.26408021741167), '/apollo/control': TopicTuple(msg_type='pb_msgs/ControlCommand', message_count=3345, connections=1, frequency=99.95958055290752), '/apollo/control/pad': TopicTuple(msg_type='pb_msgs/PadMessage', message_count=2, connections=1, frequency=1.9997320534195848), '/apollo/localization/pose': TopicTuple(msg_type='pb_msgs/LocalizationEstimate', message_count=173, connections=1, frequency=4.996541152659239), '/apollo/monitor': TopicTuple(msg_type='pb_msgs/MonitorMessage', message_count=61, connections=1, frequency=1.925515849579174), '/apollo/monitor/static_info': TopicTuple(msg_type='pb_msgs/StaticInfo', message_count=1, connections=1, frequency=None), '/apollo/monitor/system_status': TopicTuple(msg_type='pb_msgs/SystemStatus', message_count=9, connections=1, frequency=0.21345830341600902), '/apollo/planning': TopicTuple(msg_type='pb_msgs/ADCTrajectory', message_count=346, connections=1, frequency=10.004613142446873), '/apollo/routing_request': TopicTuple(msg_type='pb_msgs/RoutingRequest', message_count=1, connections=1, frequency=None), '/apollo/routing_response': TopicTuple(msg_type='pb_msgs/RoutingResponse', message_count=1, connections=1, frequency=None), '/apollo/sensor/camera/perception/image_front_camera/compressed': TopicTuple(msg_type='sensor_msgs/CompressedImage', message_count=2767, connections=1, frequency=81.06815106884689), '/apollo/sensor/camera/perception/image_front_left_side/compressed': TopicTuple(msg_type='sensor_msgs/CompressedImage', message_count=2700, connections=1, frequency=78.83881881919513), '/apollo/sensor/velodyne16/PointCloud2': TopicTuple(msg_type='sensor_msgs/PointCloud2', message_count=313, connections=1, frequency=9.907812525836635), '/apollo/sensor/velodyne16/compensator/PointCloud2': TopicTuple(msg_type='sensor_msgs/PointCloud2', message_count=313, connections=1, frequency=9.906736045009318), '/fix': TopicTuple(msg_type='sensor_msgs/NavSatFix', message_count=3457, connections=1, frequency=99.9179084033113), '/fix_gnss': TopicTuple(msg_type='sensor_msgs/NavSatFix', message_count=173, connections=1, frequency=4.997065003005289), '/gnss_odometry': TopicTuple(msg_type='nav_msgs/Odometry', message_count=158, connections=1, frequency=4.9961691665554895), '/imu/data': TopicTuple(msg_type='sensor_msgs/Imu', message_count=13827, connections=1, frequency=415.6891972249752), '/odom': TopicTuple(msg_type='nav_msgs/Odometry', message_count=173, connections=1, frequency=4.997353762934809), '/odometry/filtered': TopicTuple(msg_type='nav_msgs/Odometry', message_count=3441, connections=1, frequency=99.42643119592272), '/tf': TopicTuple(msg_type='tf2_msgs/TFMessage', message_count=8635, connections=5, frequency=298.07085243222116), '/tf_static': TopicTuple(msg_type='tf2_msgs/TFMessage', message_count=5, connections=5, frequency=1.8045260031462904)})"
      ]
     },
     "execution_count": 5,
     "metadata": {},
     "output_type": "execute_result"
    }
   ],
   "source": [
    "bag.get_type_and_topic_info()"
   ]
  },
  {
   "cell_type": "code",
   "execution_count": 6,
   "metadata": {},
   "outputs": [],
   "source": [
    "# for topic, msg, t in bag.read_messages(topics=[image_topic]):\n",
    "\n",
    "#     print(msg)\n",
    "\n",
    "#     count += 1   \n",
    "    \n",
    "#     if count == 5:\n",
    "#         break\n",
    "\n",
    "# bag.close()"
   ]
  },
  {
   "cell_type": "code",
   "execution_count": 7,
   "metadata": {},
   "outputs": [
    {
     "name": "stderr",
     "output_type": "stream",
     "text": [
      "/home/kenny/anaconda3/lib/python3.6/site-packages/ipykernel_launcher.py:5: DeprecationWarning: The binary mode of fromstring is deprecated, as it behaves surprisingly on unicode inputs. Use frombuffer instead\n",
      "  \"\"\"\n"
     ]
    },
    {
     "name": "stdout",
     "output_type": "stream",
     "text": [
      "Wrote image 0\n",
      "Wrote image 75\n",
      "Wrote image 150\n",
      "Wrote image 225\n",
      "Wrote image 300\n",
      "Wrote image 375\n",
      "Wrote image 450\n",
      "Wrote image 525\n",
      "Wrote image 600\n",
      "Wrote image 675\n",
      "Wrote image 750\n",
      "Wrote image 825\n",
      "Wrote image 900\n",
      "Wrote image 975\n",
      "Wrote image 1050\n",
      "Wrote image 1125\n",
      "Wrote image 1200\n",
      "Wrote image 1275\n",
      "Wrote image 1350\n",
      "Wrote image 1425\n",
      "Wrote image 1500\n",
      "Wrote image 1575\n",
      "Wrote image 1650\n",
      "Wrote image 1725\n",
      "Wrote image 1800\n",
      "Wrote image 1875\n",
      "Wrote image 1950\n",
      "Wrote image 2025\n",
      "Wrote image 2100\n",
      "Wrote image 2175\n",
      "Wrote image 2250\n",
      "Wrote image 2325\n",
      "Wrote image 2400\n",
      "Wrote image 2475\n",
      "Wrote image 2550\n",
      "Wrote image 2625\n",
      "Wrote image 2700\n"
     ]
    }
   ],
   "source": [
    "for topic, msg, t in bag.read_messages(topics=[image_topic]):\n",
    "    if count % step == 0:\n",
    "        \n",
    "        if compressed:\n",
    "            raw_data = np.fromstring(msg.data, np.uint8)\n",
    "            cv_img = cv2.imdecode(raw_data, cv2.IMREAD_COLOR)\n",
    "        else:\n",
    "            cv_img = bridge.imgmsg_to_cv2(msg, desired_encoding=\"passthrough\")\n",
    "\n",
    "        cv2.imwrite(os.path.join(output_dir, \"frame%06i.png\" % count), cv_img)\n",
    "        print(\"Wrote image %i\" % count)\n",
    "\n",
    "    count += 1   \n",
    "    \n",
    "#     if count == 5:\n",
    "#         break\n",
    "\n",
    "bag.close()"
   ]
  },
  {
   "cell_type": "code",
   "execution_count": null,
   "metadata": {},
   "outputs": [],
   "source": []
  }
 ],
 "metadata": {
  "kernelspec": {
   "display_name": "Python 3",
   "language": "python",
   "name": "python3"
  },
  "language_info": {
   "codemirror_mode": {
    "name": "ipython",
    "version": 3
   },
   "file_extension": ".py",
   "mimetype": "text/x-python",
   "name": "python",
   "nbconvert_exporter": "python",
   "pygments_lexer": "ipython3",
   "version": "3.6.5"
  }
 },
 "nbformat": 4,
 "nbformat_minor": 2
}
