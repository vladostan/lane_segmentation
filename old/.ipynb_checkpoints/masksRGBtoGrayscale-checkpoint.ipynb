{
 "cells": [
  {
   "cell_type": "code",
   "execution_count": 1,
   "metadata": {},
   "outputs": [],
   "source": [
    "import PIL.Image as PIL\n",
    "import cv2\n",
    "import os, re\n",
    "import matplotlib.pyplot as plt\n",
    "import numpy as np\n",
    "%matplotlib inline"
   ]
  },
  {
   "cell_type": "code",
   "execution_count": null,
   "metadata": {},
   "outputs": [],
   "source": [
    "msk = cv2.imread('/home/kenny/Desktop/lanes-segmentation/data/labels/innopolis/2018-11-30-1.png',0)"
   ]
  },
  {
   "cell_type": "code",
   "execution_count": null,
   "metadata": {},
   "outputs": [],
   "source": [
    "msk.shape"
   ]
  },
  {
   "cell_type": "code",
   "execution_count": null,
   "metadata": {},
   "outputs": [],
   "source": [
    "msk = PIL.open(\"/home/kenny/Desktop/lanes-segmentation/data/labels/innopolis/2018-11-30-1.png\")"
   ]
  },
  {
   "cell_type": "code",
   "execution_count": null,
   "metadata": {},
   "outputs": [],
   "source": [
    "np.array(msk).shape"
   ]
  },
  {
   "cell_type": "code",
   "execution_count": null,
   "metadata": {},
   "outputs": [],
   "source": [
    "np.unique(msk)"
   ]
  },
  {
   "cell_type": "code",
   "execution_count": null,
   "metadata": {},
   "outputs": [],
   "source": [
    "def get_new_path(path):\n",
    "    basedir = os.path.dirname(path) + '/grayscaled/'\n",
    "    if not os.path.isdir(basedir):\n",
    "        os.makedirs(basedir)\n",
    "    base, ext = os.path.splitext(os.path.basename(path))\n",
    "    file = base + ext\n",
    "\n",
    "    return basedir + base + ext"
   ]
  },
  {
   "cell_type": "code",
   "execution_count": null,
   "metadata": {},
   "outputs": [],
   "source": [
    "PNG = re.compile(\".*\\.(png)\", re.IGNORECASE)\n",
    "\n",
    "# Images directory\n",
    "image_dir = os.path.abspath('data/labels/innopolis')\n",
    "\n",
    "files = os.listdir(image_dir)\n",
    "\n",
    "test = PIL.open(image_dir.rstrip(\"/\") + \"/\" + files[0]).convert(\"L\")"
   ]
  },
  {
   "cell_type": "code",
   "execution_count": null,
   "metadata": {},
   "outputs": [],
   "source": [
    "for file in files:\n",
    "    if PNG.match(file):\n",
    "        f = image_dir.rstrip(\"/\") + \"/\" + file\n",
    "        img = PIL.fromarray(cv2.imread(f,0), 'L')\n",
    "        img.save(get_new_path(f))\n",
    "        print(get_new_path(f))"
   ]
  },
  {
   "cell_type": "code",
   "execution_count": null,
   "metadata": {},
   "outputs": [],
   "source": [
    "kek = PIL.open(\"/home/kenny/Desktop/lanes-segmentation/data/labels/innopolis/grayscaled/2018-11-30-164.png\")"
   ]
  },
  {
   "cell_type": "code",
   "execution_count": null,
   "metadata": {},
   "outputs": [],
   "source": [
    "np.array(kek).shape"
   ]
  }
 ],
 "metadata": {
  "kernelspec": {
   "display_name": "Python 3",
   "language": "python",
   "name": "python3"
  },
  "language_info": {
   "codemirror_mode": {
    "name": "ipython",
    "version": 3
   },
   "file_extension": ".py",
   "mimetype": "text/x-python",
   "name": "python",
   "nbconvert_exporter": "python",
   "pygments_lexer": "ipython3",
   "version": "3.6.5"
  }
 },
 "nbformat": 4,
 "nbformat_minor": 2
}
