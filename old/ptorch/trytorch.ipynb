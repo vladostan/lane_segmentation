{
 "cells": [
  {
   "cell_type": "code",
   "execution_count": null,
   "metadata": {},
   "outputs": [],
   "source": [
    "import os\n",
    "import matplotlib.pylab as plt\n",
    "from glob import glob\n",
    "import numpy as np"
   ]
  },
  {
   "cell_type": "code",
   "execution_count": null,
   "metadata": {},
   "outputs": [],
   "source": [
    "PATH = os.path.abspath('../data')\n",
    "\n",
    "SOURCE_IMAGES = [os.path.join(PATH, \"images/um\")]\n",
    "\n",
    "images = []\n",
    "labels = []\n",
    "\n",
    "for si in SOURCE_IMAGES:\n",
    "    images.extend(glob(os.path.join(si, \"*.png\")))\n",
    "    labels.extend(glob(os.path.join(si.replace(\"images/\",\"labels/egolane/\"), \"*.png\")))\n",
    "    \n",
    "print(\"Datasets used: {}\\n\".format(SOURCE_IMAGES))\n",
    "\n",
    "images.sort()\n",
    "labels.sort()"
   ]
  },
  {
   "cell_type": "code",
   "execution_count": null,
   "metadata": {},
   "outputs": [],
   "source": [
    "print(len(images))\n",
    "print(len(labels))"
   ]
  },
  {
   "cell_type": "code",
   "execution_count": null,
   "metadata": {},
   "outputs": [],
   "source": [
    "def get_image(path):\n",
    "    \n",
    "    image = plt.imread(path, 0)\n",
    "    \n",
    "    return(np.asarray(image[:320,:1152]))"
   ]
  },
  {
   "cell_type": "code",
   "execution_count": null,
   "metadata": {},
   "outputs": [],
   "source": [
    "def get_label(path):\n",
    "\n",
    "    label = plt.imread(path, 0)\n",
    "    \n",
    "    return(np.asarray(label[:320,:1152]))"
   ]
  },
  {
   "cell_type": "code",
   "execution_count": null,
   "metadata": {},
   "outputs": [],
   "source": [
    "for i in images:\n",
    "    print(get_image(i).shape)"
   ]
  },
  {
   "cell_type": "code",
   "execution_count": null,
   "metadata": {},
   "outputs": [],
   "source": [
    "img = get_image(images[0])\n",
    "img.dtype"
   ]
  },
  {
   "cell_type": "code",
   "execution_count": null,
   "metadata": {},
   "outputs": [],
   "source": [
    "print(get_image(images[83]).shape)\n",
    "print(get_image(labels[84]).shape)"
   ]
  },
  {
   "cell_type": "code",
   "execution_count": null,
   "metadata": {},
   "outputs": [],
   "source": [
    "lbl = get_label(labels[0])\n",
    "lbl.dtype\n",
    "lbl.shape[:2]"
   ]
  },
  {
   "cell_type": "code",
   "execution_count": null,
   "metadata": {},
   "outputs": [],
   "source": [
    "plt.imshow(lbl)"
   ]
  },
  {
   "cell_type": "code",
   "execution_count": null,
   "metadata": {},
   "outputs": [],
   "source": [
    "def rgbto2(lbl):\n",
    "    w,h = lbl.shape[:2]\n",
    "    out = np.zeros([w,h],dtype=np.uint8)\n",
    "    for i in range(w):\n",
    "        for j in range(h):\n",
    "            if(lbl[i,j,2] == 255):\n",
    "                out[i,j] = 1\n",
    "    return out"
   ]
  },
  {
   "cell_type": "code",
   "execution_count": null,
   "metadata": {},
   "outputs": [],
   "source": [
    "out = rgbto2(lbl)\n",
    "out.shape"
   ]
  },
  {
   "cell_type": "code",
   "execution_count": null,
   "metadata": {},
   "outputs": [],
   "source": [
    "plt.imshow(out)"
   ]
  },
  {
   "cell_type": "code",
   "execution_count": 1,
   "metadata": {},
   "outputs": [],
   "source": [
    "import random\n",
    "import sys\n",
    "import os\n",
    "from optparse import OptionParser\n",
    "import numpy as np\n",
    "from PIL import Image"
   ]
  },
  {
   "cell_type": "code",
   "execution_count": 2,
   "metadata": {},
   "outputs": [],
   "source": [
    "import torch\n",
    "import torch.backends.cudnn as cudnn\n",
    "import torch.nn as nn\n",
    "from torch import optim"
   ]
  },
  {
   "cell_type": "code",
   "execution_count": 3,
   "metadata": {},
   "outputs": [],
   "source": [
    "from eval import eval_net\n",
    "from unet import UNet"
   ]
  },
  {
   "cell_type": "code",
   "execution_count": 4,
   "metadata": {},
   "outputs": [],
   "source": [
    "def get_ids(directory):\n",
    "    \"\"\"Returns a list of the ids in the directory\"\"\"\n",
    "    return (f[:-4] for f in os.listdir(directory))"
   ]
  },
  {
   "cell_type": "code",
   "execution_count": 5,
   "metadata": {},
   "outputs": [],
   "source": [
    "def split_ids(ids, n=2):\n",
    "    \"\"\"Split each id in n, creating n tuples (id, k) for each id\"\"\"\n",
    "    return ((iid, i) for i in range(n) for iid in ids)"
   ]
  },
  {
   "cell_type": "code",
   "execution_count": 6,
   "metadata": {},
   "outputs": [],
   "source": [
    "def resize_and_crop(pilimg, scale=0.5, final_height=None):\n",
    "    w = pilimg.size[0]\n",
    "    h = pilimg.size[1]\n",
    "    newW = int(w * scale)\n",
    "    newH = int(h * scale)\n",
    "\n",
    "    if not final_height:\n",
    "        diff = 0\n",
    "    else:\n",
    "        diff = newH - final_height\n",
    "\n",
    "    img = pilimg.resize((newW, newH))\n",
    "    img = img.crop((0, diff // 2, newW, newH - diff // 2))\n",
    "    return np.array(img, dtype=np.float32)"
   ]
  },
  {
   "cell_type": "code",
   "execution_count": 7,
   "metadata": {},
   "outputs": [],
   "source": [
    "def get_square(img, pos):\n",
    "    \"\"\"Extract a left or a right square from ndarray shape : (H, W, C))\"\"\"\n",
    "    h = img.shape[0]\n",
    "    if pos == 0:\n",
    "        return img[:, :h]\n",
    "    else:\n",
    "        return img[:, -h:]"
   ]
  },
  {
   "cell_type": "code",
   "execution_count": 254,
   "metadata": {},
   "outputs": [],
   "source": [
    "def to_cropped_imgs(ids, directory, suffix, scale):\n",
    "    \"\"\"From a list of tuples, returns the correct cropped img\"\"\"\n",
    "    for iid, pos in ids:\n",
    "        im = resize_and_crop(Image.open(directory + iid + suffix), scale=scale)\n",
    "        yield get_square(im, pos)"
   ]
  },
  {
   "cell_type": "code",
   "execution_count": 286,
   "metadata": {},
   "outputs": [],
   "source": [
    "def load_img(ids, directory, suffix):\n",
    "    for iid in ids:\n",
    "        img = np.array(Image.open(directory + iid + suffix))\n",
    "        yield img[:320,:1152]"
   ]
  },
  {
   "cell_type": "code",
   "execution_count": null,
   "metadata": {},
   "outputs": [],
   "source": [
    "np.array(Image.open(directory + iid + suffix))"
   ]
  },
  {
   "cell_type": "code",
   "execution_count": 256,
   "metadata": {},
   "outputs": [],
   "source": [
    "def load_mask(ids, directory, suffix):\n",
    "    for iid in ids:\n",
    "        msk = np.array(Image.open(directory + iid + suffix)).astype('int32')\n",
    "        yield msk[:320,:1152]"
   ]
  },
  {
   "cell_type": "code",
   "execution_count": 257,
   "metadata": {},
   "outputs": [],
   "source": [
    "def hwc_to_chw(img):\n",
    "    return np.transpose(img, axes=[2, 0, 1])"
   ]
  },
  {
   "cell_type": "code",
   "execution_count": 258,
   "metadata": {},
   "outputs": [],
   "source": [
    "def normalize(x):\n",
    "    return np.float32(x/255.)"
   ]
  },
  {
   "cell_type": "code",
   "execution_count": 259,
   "metadata": {},
   "outputs": [],
   "source": [
    "def rgbto2(lbl):\n",
    "    w,h = lbl.shape[:2]\n",
    "    out = np.zeros([w,h],dtype=np.uint8)\n",
    "    for i in range(w):\n",
    "        for j in range(h):\n",
    "            if(lbl[i,j,2] == 255):\n",
    "                out[i,j] = 1\n",
    "    return out"
   ]
  },
  {
   "cell_type": "code",
   "execution_count": 260,
   "metadata": {},
   "outputs": [],
   "source": [
    "def get_imgs_and_masks(ids, dir_img, dir_mask, scale):\n",
    "    \"\"\"Return all the couples (img, mask)\"\"\"\n",
    "\n",
    "    imgs = to_cropped_imgs(ids, dir_img, '.png', scale)\n",
    "\n",
    "    # need to transform from HWC to CHW\n",
    "    imgs_switched = map(hwc_to_chw, imgs)\n",
    "    imgs_normalized = map(normalize, imgs_switched)\n",
    "\n",
    "    masks = to_cropped_imgs(ids, dir_mask, '.png', scale)\n",
    "\n",
    "    return zip(imgs_normalized, masks)"
   ]
  },
  {
   "cell_type": "code",
   "execution_count": 261,
   "metadata": {},
   "outputs": [],
   "source": [
    "def get_imgs_and_masks2(ids, dir_img, dir_mask):\n",
    "    \"\"\"Return all the couples (img, mask)\"\"\"\n",
    "\n",
    "    imgs = load_img(ids, dir_img, '.png')\n",
    "\n",
    "    # need to transform from HWC to CHW\n",
    "    imgs_switched = map(hwc_to_chw, imgs)\n",
    "    imgs_normalized = map(normalize, imgs_switched)\n",
    "\n",
    "    masks = load_mask(ids, dir_mask, '.png')\n",
    "\n",
    "    return zip(imgs_normalized, masks)"
   ]
  },
  {
   "cell_type": "code",
   "execution_count": 262,
   "metadata": {},
   "outputs": [],
   "source": [
    "def get_full_img_and_mask(iid, dir_img, dir_mask):\n",
    "    im = Image.open(dir_img + iid + '.png')\n",
    "    mask = Image.open(dir_mask + iid + '.png')\n",
    "    return np.array(im), np.array(mask)"
   ]
  },
  {
   "cell_type": "code",
   "execution_count": 263,
   "metadata": {},
   "outputs": [],
   "source": [
    "def batch(iterable, batch_size):\n",
    "    \"\"\"Yields lists by batch\"\"\"\n",
    "    b = []\n",
    "    for i, t in enumerate(iterable):\n",
    "        b.append(t)\n",
    "        if (i + 1) % batch_size == 0:\n",
    "            yield b\n",
    "            b = []\n",
    "\n",
    "    if len(b) > 0:\n",
    "        yield b"
   ]
  },
  {
   "cell_type": "code",
   "execution_count": 264,
   "metadata": {},
   "outputs": [],
   "source": [
    "def split_train_val(dataset, val_percent=0.05):\n",
    "    dataset = list(dataset)\n",
    "    length = len(dataset)\n",
    "    n = int(length * val_percent)\n",
    "    random.shuffle(dataset)\n",
    "    return {'train': dataset[:-n], 'val': dataset[-n:]}"
   ]
  },
  {
   "cell_type": "code",
   "execution_count": null,
   "metadata": {},
   "outputs": [],
   "source": []
  },
  {
   "cell_type": "code",
   "execution_count": null,
   "metadata": {},
   "outputs": [],
   "source": []
  },
  {
   "cell_type": "code",
   "execution_count": null,
   "metadata": {},
   "outputs": [],
   "source": []
  },
  {
   "cell_type": "code",
   "execution_count": 18,
   "metadata": {},
   "outputs": [],
   "source": [
    "net = UNet(n_channels=3, n_classes=1)"
   ]
  },
  {
   "cell_type": "code",
   "execution_count": 19,
   "metadata": {},
   "outputs": [],
   "source": [
    "epochs = 1\n",
    "batch_size = 1\n",
    "lr = 0.1\n",
    "val_percent = 0.25\n",
    "save_cp = True\n",
    "gpu = False"
   ]
  },
  {
   "cell_type": "code",
   "execution_count": 20,
   "metadata": {},
   "outputs": [],
   "source": [
    "dir_img = '../data/images/um/'\n",
    "dir_mask = '../data/labels/egolane/um/'\n",
    "dir_checkpoint = 'checkpoints/'"
   ]
  },
  {
   "cell_type": "code",
   "execution_count": 21,
   "metadata": {},
   "outputs": [
    {
     "data": {
      "text/plain": [
       "'../data/images/um/'"
      ]
     },
     "execution_count": 21,
     "metadata": {},
     "output_type": "execute_result"
    }
   ],
   "source": [
    "dir_img"
   ]
  },
  {
   "cell_type": "code",
   "execution_count": null,
   "metadata": {},
   "outputs": [],
   "source": []
  },
  {
   "cell_type": "code",
   "execution_count": null,
   "metadata": {},
   "outputs": [],
   "source": []
  },
  {
   "cell_type": "code",
   "execution_count": 32,
   "metadata": {},
   "outputs": [],
   "source": [
    "ids = get_ids(dir_img)"
   ]
  },
  {
   "cell_type": "code",
   "execution_count": null,
   "metadata": {},
   "outputs": [],
   "source": []
  },
  {
   "cell_type": "code",
   "execution_count": 31,
   "metadata": {},
   "outputs": [
    {
     "ename": "AttributeError",
     "evalue": "'generator' object has no attribute 'copy'",
     "output_type": "error",
     "traceback": [
      "\u001b[0;31m---------------------------------------------------------------------------\u001b[0m",
      "\u001b[0;31mAttributeError\u001b[0m                            Traceback (most recent call last)",
      "\u001b[0;32m<ipython-input-31-34d94c7f6664>\u001b[0m in \u001b[0;36m<module>\u001b[0;34m\u001b[0m\n\u001b[0;32m----> 1\u001b[0;31m \u001b[0mlen\u001b[0m\u001b[0;34m(\u001b[0m\u001b[0mlist\u001b[0m\u001b[0;34m(\u001b[0m\u001b[0mids\u001b[0m\u001b[0;34m.\u001b[0m\u001b[0mcopy\u001b[0m\u001b[0;34m(\u001b[0m\u001b[0;34m)\u001b[0m\u001b[0;34m)\u001b[0m\u001b[0;34m)\u001b[0m\u001b[0;34m\u001b[0m\u001b[0m\n\u001b[0m",
      "\u001b[0;31mAttributeError\u001b[0m: 'generator' object has no attribute 'copy'"
     ]
    }
   ],
   "source": [
    "len(list(ids.copy)"
   ]
  },
  {
   "cell_type": "code",
   "execution_count": 33,
   "metadata": {},
   "outputs": [],
   "source": [
    "iddataset = split_train_val(ids, val_percent)"
   ]
  },
  {
   "cell_type": "code",
   "execution_count": 72,
   "metadata": {},
   "outputs": [
    {
     "data": {
      "text/plain": [
       "['um_000022',\n",
       " 'um_000061',\n",
       " 'um_000045',\n",
       " 'um_000000',\n",
       " 'um_000050',\n",
       " 'um_000058',\n",
       " 'um_000067',\n",
       " 'um_000008',\n",
       " 'um_000005',\n",
       " 'um_000043',\n",
       " 'um_000073',\n",
       " 'um_000023',\n",
       " 'um_000027',\n",
       " 'um_000064',\n",
       " 'um_000038',\n",
       " 'um_000037',\n",
       " 'um_000044',\n",
       " 'um_000006',\n",
       " 'um_000052',\n",
       " 'um_000083',\n",
       " 'um_000077',\n",
       " 'um_000088',\n",
       " 'um_000020',\n",
       " 'um_000062',\n",
       " 'um_000093',\n",
       " 'um_000091',\n",
       " 'um_000004',\n",
       " 'um_000002',\n",
       " 'um_000068',\n",
       " 'um_000060',\n",
       " 'um_000007',\n",
       " 'um_000051',\n",
       " 'um_000035',\n",
       " 'um_000001',\n",
       " 'um_000028',\n",
       " 'um_000015',\n",
       " 'um_000082',\n",
       " 'um_000087',\n",
       " 'um_000024',\n",
       " 'um_000086',\n",
       " 'um_000025',\n",
       " 'um_000049',\n",
       " 'um_000085',\n",
       " 'um_000009',\n",
       " 'um_000048',\n",
       " 'um_000013',\n",
       " 'um_000040',\n",
       " 'um_000054',\n",
       " 'um_000012',\n",
       " 'um_000018',\n",
       " 'um_000047',\n",
       " 'um_000033',\n",
       " 'um_000016',\n",
       " 'um_000070',\n",
       " 'um_000066',\n",
       " 'um_000019',\n",
       " 'um_000032',\n",
       " 'um_000026',\n",
       " 'um_000057',\n",
       " 'um_000081',\n",
       " 'um_000003',\n",
       " 'um_000021',\n",
       " 'um_000029',\n",
       " 'um_000069',\n",
       " 'um_000046',\n",
       " 'um_000042',\n",
       " 'um_000053',\n",
       " 'um_000079',\n",
       " 'um_000034',\n",
       " 'um_000092',\n",
       " 'um_000075',\n",
       " 'um_000030']"
      ]
     },
     "execution_count": 72,
     "metadata": {},
     "output_type": "execute_result"
    }
   ],
   "source": [
    "iddataset['train']"
   ]
  },
  {
   "cell_type": "code",
   "execution_count": 35,
   "metadata": {},
   "outputs": [
    {
     "name": "stdout",
     "output_type": "stream",
     "text": [
      "\n",
      "Starting training:\n",
      "Epochs: 1\n",
      "Batch size: 1\n",
      "Learning rate: 0.1\n",
      "Training size: 72\n",
      "Validation size: 23\n",
      "Checkpoints: True\n",
      "CUDA: False\n",
      "\n"
     ]
    }
   ],
   "source": [
    "print('''\n",
    "Starting training:\n",
    "Epochs: {}\n",
    "Batch size: {}\n",
    "Learning rate: {}\n",
    "Training size: {}\n",
    "Validation size: {}\n",
    "Checkpoints: {}\n",
    "CUDA: {}\n",
    "'''.format(epochs, batch_size, lr, len(iddataset['train']),\n",
    "       len(iddataset['val']), str(save_cp), str(gpu)))"
   ]
  },
  {
   "cell_type": "code",
   "execution_count": 36,
   "metadata": {},
   "outputs": [],
   "source": [
    "N_train = len(iddataset['train'])"
   ]
  },
  {
   "cell_type": "code",
   "execution_count": 37,
   "metadata": {},
   "outputs": [
    {
     "data": {
      "text/plain": [
       "72"
      ]
     },
     "execution_count": 37,
     "metadata": {},
     "output_type": "execute_result"
    }
   ],
   "source": [
    "N_train"
   ]
  },
  {
   "cell_type": "code",
   "execution_count": 38,
   "metadata": {},
   "outputs": [],
   "source": [
    "N_val = len(iddataset['val'])"
   ]
  },
  {
   "cell_type": "code",
   "execution_count": 39,
   "metadata": {},
   "outputs": [
    {
     "data": {
      "text/plain": [
       "23"
      ]
     },
     "execution_count": 39,
     "metadata": {},
     "output_type": "execute_result"
    }
   ],
   "source": [
    "N_val"
   ]
  },
  {
   "cell_type": "code",
   "execution_count": 40,
   "metadata": {},
   "outputs": [],
   "source": [
    "optimizer = optim.SGD(net.parameters(),\n",
    "                  lr=lr,\n",
    "                  momentum=0.9,\n",
    "                  weight_decay=0.0005)"
   ]
  },
  {
   "cell_type": "code",
   "execution_count": 41,
   "metadata": {},
   "outputs": [],
   "source": [
    "optimizer = optim.Adam(net.parameters(), lr=lr)"
   ]
  },
  {
   "cell_type": "code",
   "execution_count": 42,
   "metadata": {},
   "outputs": [],
   "source": [
    "criterion = nn.BCELoss()"
   ]
  },
  {
   "cell_type": "code",
   "execution_count": 214,
   "metadata": {},
   "outputs": [],
   "source": [
    "train = get_imgs_and_masks2(iddataset['train'], dir_img, dir_mask)"
   ]
  },
  {
   "cell_type": "code",
   "execution_count": 203,
   "metadata": {},
   "outputs": [
    {
     "data": {
      "text/plain": [
       "<zip at 0x7f18b8602cc8>"
      ]
     },
     "execution_count": 203,
     "metadata": {},
     "output_type": "execute_result"
    }
   ],
   "source": [
    "train"
   ]
  },
  {
   "cell_type": "code",
   "execution_count": 150,
   "metadata": {},
   "outputs": [],
   "source": [
    "for i, (element1, element2) in enumerate(train):\n",
    "    print(element1, element2)"
   ]
  },
  {
   "cell_type": "code",
   "execution_count": 139,
   "metadata": {},
   "outputs": [
    {
     "data": {
      "text/plain": [
       "(3, 375, 1242)"
      ]
     },
     "execution_count": 139,
     "metadata": {},
     "output_type": "execute_result"
    }
   ],
   "source": [
    "element1.shape"
   ]
  },
  {
   "cell_type": "code",
   "execution_count": 143,
   "metadata": {},
   "outputs": [
    {
     "data": {
      "text/plain": [
       "dtype('float32')"
      ]
     },
     "execution_count": 143,
     "metadata": {},
     "output_type": "execute_result"
    }
   ],
   "source": [
    "element1.dtype"
   ]
  },
  {
   "cell_type": "code",
   "execution_count": 144,
   "metadata": {},
   "outputs": [
    {
     "data": {
      "text/plain": [
       "numpy.ndarray"
      ]
     },
     "execution_count": 144,
     "metadata": {},
     "output_type": "execute_result"
    }
   ],
   "source": [
    "type(element1)"
   ]
  },
  {
   "cell_type": "code",
   "execution_count": 145,
   "metadata": {},
   "outputs": [
    {
     "data": {
      "text/plain": [
       "(375, 1242)"
      ]
     },
     "execution_count": 145,
     "metadata": {},
     "output_type": "execute_result"
    }
   ],
   "source": [
    "element2.shape"
   ]
  },
  {
   "cell_type": "code",
   "execution_count": 146,
   "metadata": {},
   "outputs": [
    {
     "data": {
      "text/plain": [
       "dtype('int8')"
      ]
     },
     "execution_count": 146,
     "metadata": {},
     "output_type": "execute_result"
    }
   ],
   "source": [
    "element2.dtype"
   ]
  },
  {
   "cell_type": "code",
   "execution_count": 151,
   "metadata": {},
   "outputs": [
    {
     "data": {
      "text/plain": [
       "numpy.ndarray"
      ]
     },
     "execution_count": 151,
     "metadata": {},
     "output_type": "execute_result"
    }
   ],
   "source": [
    "type(element2)"
   ]
  },
  {
   "cell_type": "code",
   "execution_count": null,
   "metadata": {},
   "outputs": [],
   "source": []
  },
  {
   "cell_type": "code",
   "execution_count": 283,
   "metadata": {},
   "outputs": [],
   "source": [
    "train = get_imgs_and_masks2(iddataset['train'], dir_img, dir_mask)"
   ]
  },
  {
   "cell_type": "code",
   "execution_count": 284,
   "metadata": {},
   "outputs": [
    {
     "name": "stdout",
     "output_type": "stream",
     "text": [
      "float32\n",
      "int32\n",
      "float32\n",
      "int32\n",
      "float32\n",
      "int32\n",
      "float32\n",
      "int32\n",
      "float32\n",
      "int32\n"
     ]
    }
   ],
   "source": [
    "for i, b in enumerate(batch(train, batch_size=16)):\n",
    "        imgs = np.array([i[0] for i in b])\n",
    "        print(imgs.dtype)\n",
    "        true_masks = np.array([i[1] for i in b])\n",
    "        print(true_masks.dtype)\n",
    "        imgs = torch.from_numpy(imgs)\n",
    "        true_masks = torch.from_numpy(true_masks)"
   ]
  },
  {
   "cell_type": "code",
   "execution_count": 270,
   "metadata": {},
   "outputs": [
    {
     "data": {
      "text/plain": [
       "torch.Size([2, 3, 320, 1152])"
      ]
     },
     "execution_count": 270,
     "metadata": {},
     "output_type": "execute_result"
    }
   ],
   "source": [
    "imgs.shape"
   ]
  },
  {
   "cell_type": "code",
   "execution_count": 271,
   "metadata": {},
   "outputs": [
    {
     "data": {
      "text/plain": [
       "torch.Size([2, 320, 1152])"
      ]
     },
     "execution_count": 271,
     "metadata": {},
     "output_type": "execute_result"
    }
   ],
   "source": [
    "true_masks.shape"
   ]
  },
  {
   "cell_type": "code",
   "execution_count": null,
   "metadata": {},
   "outputs": [],
   "source": []
  },
  {
   "cell_type": "code",
   "execution_count": null,
   "metadata": {},
   "outputs": [],
   "source": [
    "for epoch in range(epochs):\n",
    "    print('Starting epoch {}/{}.'.format(epoch + 1, epochs))\n",
    "    net.train()\n",
    "\n",
    "    # reset the generators\n",
    "    train = get_imgs_and_masks2(iddataset['train'], dir_img, dir_mask)\n",
    "    val = get_imgs_and_masks2(iddataset['val'], dir_img, dir_mask)\n",
    "\n",
    "    epoch_loss = 0\n",
    "\n",
    "    for i, b in enumerate(batch(train, batch_size)):\n",
    "        imgs = np.array([i[0] for i in b]).astype(np.float32)\n",
    "        true_masks = np.array([i[1] for i in b])\n",
    "\n",
    "        imgs = torch.from_numpy(imgs)\n",
    "        true_masks = torch.from_numpy(true_masks)\n",
    "\n",
    "        if gpu:\n",
    "            imgs = imgs.cuda()\n",
    "            true_masks = true_masks.cuda()\n",
    "\n",
    "        masks_pred = net(imgs)\n",
    "        masks_probs_flat = masks_pred.view(-1)\n",
    "\n",
    "        true_masks_flat = true_masks.view(-1)\n",
    "\n",
    "        loss = criterion(masks_probs_flat, true_masks_flat)\n",
    "        epoch_loss += loss.item()\n",
    "\n",
    "        print('{0:.4f} --- loss: {1:.6f}'.format(i * batch_size / N_train, loss.item()))\n",
    "\n",
    "        optimizer.zero_grad()\n",
    "        loss.backward()\n",
    "        optimizer.step()\n",
    "\n",
    "    print('Epoch finished ! Loss: {}'.format(epoch_loss / i))\n",
    "\n",
    "    if 1:\n",
    "        val_dice = eval_net(net, val, gpu)\n",
    "        print('Validation Dice Coeff: {}'.format(val_dice))\n",
    "\n",
    "    if save_cp:\n",
    "        torch.save(net.state_dict(),\n",
    "                   dir_checkpoint + 'CP{}.pth'.format(epoch + 1))\n",
    "        print('Checkpoint {} saved !'.format(epoch + 1))"
   ]
  },
  {
   "cell_type": "code",
   "execution_count": null,
   "metadata": {},
   "outputs": [],
   "source": []
  },
  {
   "cell_type": "code",
   "execution_count": null,
   "metadata": {},
   "outputs": [],
   "source": []
  },
  {
   "cell_type": "code",
   "execution_count": null,
   "metadata": {},
   "outputs": [],
   "source": []
  },
  {
   "cell_type": "code",
   "execution_count": null,
   "metadata": {},
   "outputs": [],
   "source": []
  },
  {
   "cell_type": "code",
   "execution_count": null,
   "metadata": {},
   "outputs": [],
   "source": []
  },
  {
   "cell_type": "code",
   "execution_count": null,
   "metadata": {},
   "outputs": [],
   "source": []
  },
  {
   "cell_type": "code",
   "execution_count": null,
   "metadata": {},
   "outputs": [],
   "source": []
  },
  {
   "cell_type": "code",
   "execution_count": null,
   "metadata": {},
   "outputs": [],
   "source": []
  },
  {
   "cell_type": "code",
   "execution_count": null,
   "metadata": {},
   "outputs": [],
   "source": []
  },
  {
   "cell_type": "code",
   "execution_count": null,
   "metadata": {},
   "outputs": [],
   "source": []
  },
  {
   "cell_type": "code",
   "execution_count": null,
   "metadata": {},
   "outputs": [],
   "source": []
  },
  {
   "cell_type": "code",
   "execution_count": null,
   "metadata": {},
   "outputs": [],
   "source": []
  },
  {
   "cell_type": "code",
   "execution_count": null,
   "metadata": {},
   "outputs": [],
   "source": []
  },
  {
   "cell_type": "code",
   "execution_count": null,
   "metadata": {},
   "outputs": [],
   "source": []
  },
  {
   "cell_type": "code",
   "execution_count": null,
   "metadata": {},
   "outputs": [],
   "source": []
  },
  {
   "cell_type": "code",
   "execution_count": null,
   "metadata": {},
   "outputs": [],
   "source": []
  },
  {
   "cell_type": "code",
   "execution_count": null,
   "metadata": {},
   "outputs": [],
   "source": []
  },
  {
   "cell_type": "code",
   "execution_count": null,
   "metadata": {},
   "outputs": [],
   "source": []
  },
  {
   "cell_type": "code",
   "execution_count": null,
   "metadata": {},
   "outputs": [],
   "source": []
  },
  {
   "cell_type": "code",
   "execution_count": null,
   "metadata": {},
   "outputs": [],
   "source": []
  },
  {
   "cell_type": "code",
   "execution_count": null,
   "metadata": {},
   "outputs": [],
   "source": []
  },
  {
   "cell_type": "code",
   "execution_count": null,
   "metadata": {},
   "outputs": [],
   "source": []
  },
  {
   "cell_type": "code",
   "execution_count": null,
   "metadata": {},
   "outputs": [],
   "source": []
  },
  {
   "cell_type": "code",
   "execution_count": null,
   "metadata": {},
   "outputs": [],
   "source": []
  },
  {
   "cell_type": "code",
   "execution_count": null,
   "metadata": {},
   "outputs": [],
   "source": []
  },
  {
   "cell_type": "code",
   "execution_count": null,
   "metadata": {},
   "outputs": [],
   "source": []
  },
  {
   "cell_type": "code",
   "execution_count": null,
   "metadata": {},
   "outputs": [],
   "source": []
  },
  {
   "cell_type": "code",
   "execution_count": null,
   "metadata": {},
   "outputs": [],
   "source": []
  },
  {
   "cell_type": "code",
   "execution_count": null,
   "metadata": {},
   "outputs": [],
   "source": []
  },
  {
   "cell_type": "code",
   "execution_count": null,
   "metadata": {},
   "outputs": [],
   "source": []
  },
  {
   "cell_type": "code",
   "execution_count": null,
   "metadata": {},
   "outputs": [],
   "source": []
  },
  {
   "cell_type": "code",
   "execution_count": null,
   "metadata": {},
   "outputs": [],
   "source": []
  },
  {
   "cell_type": "code",
   "execution_count": null,
   "metadata": {},
   "outputs": [],
   "source": []
  },
  {
   "cell_type": "code",
   "execution_count": null,
   "metadata": {},
   "outputs": [],
   "source": []
  },
  {
   "cell_type": "code",
   "execution_count": null,
   "metadata": {},
   "outputs": [],
   "source": []
  },
  {
   "cell_type": "code",
   "execution_count": null,
   "metadata": {},
   "outputs": [],
   "source": []
  },
  {
   "cell_type": "code",
   "execution_count": null,
   "metadata": {},
   "outputs": [],
   "source": []
  },
  {
   "cell_type": "code",
   "execution_count": null,
   "metadata": {},
   "outputs": [],
   "source": []
  },
  {
   "cell_type": "code",
   "execution_count": null,
   "metadata": {},
   "outputs": [],
   "source": []
  },
  {
   "cell_type": "code",
   "execution_count": null,
   "metadata": {},
   "outputs": [],
   "source": []
  },
  {
   "cell_type": "code",
   "execution_count": null,
   "metadata": {},
   "outputs": [],
   "source": []
  },
  {
   "cell_type": "code",
   "execution_count": null,
   "metadata": {},
   "outputs": [],
   "source": []
  },
  {
   "cell_type": "code",
   "execution_count": null,
   "metadata": {},
   "outputs": [],
   "source": []
  }
 ],
 "metadata": {
  "kernelspec": {
   "display_name": "Python 3",
   "language": "python",
   "name": "python3"
  },
  "language_info": {
   "codemirror_mode": {
    "name": "ipython",
    "version": 3
   },
   "file_extension": ".py",
   "mimetype": "text/x-python",
   "name": "python",
   "nbconvert_exporter": "python",
   "pygments_lexer": "ipython3",
   "version": "3.6.5"
  }
 },
 "nbformat": 4,
 "nbformat_minor": 2
}
