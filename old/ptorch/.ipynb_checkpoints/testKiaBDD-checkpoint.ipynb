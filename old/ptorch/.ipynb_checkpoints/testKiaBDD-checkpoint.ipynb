{
 "cells": [
  {
   "cell_type": "code",
   "execution_count": null,
   "metadata": {},
   "outputs": [],
   "source": [
    "import sys\n",
    "import os\n",
    "import numpy as np\n",
    "from PIL import Image\n",
    "import datetime\n",
    "\n",
    "import torch\n",
    "import torch.nn as nn\n",
    "from torch import optim\n",
    "\n",
    "import matplotlib.pyplot as plt"
   ]
  },
  {
   "cell_type": "code",
   "execution_count": null,
   "metadata": {},
   "outputs": [],
   "source": [
    "def get_ids(directory):\n",
    "    \"\"\"Returns a list of the ids in the directory\"\"\"\n",
    "    return (f[:-4] for f in os.listdir(directory))\n",
    "\n",
    "# In[255]:\n",
    "#def load_img(ids, directory, suffix):\n",
    "#    for iid in ids:\n",
    "#        \n",
    "#        img = Image.open(directory + iid + suffix)\n",
    "#        img = img.resize((640,360))\n",
    "#        img = np.array(img)\n",
    "#        yield img\n",
    "        \n",
    "def load_img2(iid, directory, suffix):\n",
    "        \n",
    "    img = Image.open(directory + iid + suffix)\n",
    "#     img = img.resize((640,360))\n",
    "    img = img.resize((640,256))\n",
    "\n",
    "#    img = img.resize((320,180))\n",
    "\n",
    "    img = np.array(img)\n",
    "        \n",
    "    return img\n",
    "\n",
    "# In[256]:\n",
    "#def load_mask(ids, directory, suffix):\n",
    "#    for iid in ids:\n",
    "#        \n",
    "#        msk = Image.open(directory + iid + \"_drivable_id\" + suffix)\n",
    "#        msk = msk.resize((640,360))\n",
    "#        msk = np.array(msk).astype('float32')\n",
    "#        yield msk\n",
    "        \n",
    "def load_mask2(iid, directory, suffix):\n",
    "        \n",
    "    msk = Image.open(directory + iid + \"_drivable_id\" + suffix)\n",
    "    msk = msk.resize((640,360))\n",
    "#    msk = msk.resize((320,180))\n",
    "\n",
    "    msk = np.array(msk).astype('float32')\n",
    "    return msk\n",
    "\n",
    "# In[257]:\n",
    "def hwc_to_chw(img):\n",
    "    return np.transpose(img, axes=[2, 0, 1])\n",
    "\n",
    "# In[258]:\n",
    "def normalize(x):\n",
    "    return np.float32(x/255.)"
   ]
  },
  {
   "cell_type": "code",
   "execution_count": null,
   "metadata": {},
   "outputs": [],
   "source": [
    "epochs = 100\n",
    "batch_size = 1\n",
    "lr = 0.0001\n",
    "save_cp = False\n",
    "gpu = False\n",
    "load = True"
   ]
  },
  {
   "cell_type": "code",
   "execution_count": null,
   "metadata": {},
   "outputs": [],
   "source": [
    "from unet import UNet_multiclass\n",
    "\n",
    "net = UNet_multiclass(n_channels=3, n_classes=3)\n",
    "\n",
    "if gpu: \n",
    "    net.cuda()\n",
    "    \n",
    "if load:\n",
    "    weights = \"checkpoints/driveable/BDD_2_CP8.pth\"\n",
    "    if torch.cuda.is_available():\n",
    "        net.load_state_dict(torch.load(weights))\n",
    "    else:\n",
    "        net.load_state_dict(torch.load(weights, map_location='cpu'))\n",
    "    print('Model loaded from {}'.format(weights))\n",
    "    \n",
    "net.eval()"
   ]
  },
  {
   "cell_type": "code",
   "execution_count": null,
   "metadata": {},
   "outputs": [],
   "source": [
    "dir_img_train = \"/home/kenny/Desktop/lanes-segmentation/data/images/2018-11-30/\"\n",
    "\n",
    "ids_train = get_ids(dir_img_train)\n",
    "\n",
    "iddataset = dict()\n",
    "\n",
    "iddataset['train'] = list(ids_train)\n",
    "\n",
    "# iddataset['train'] = iddataset['train'][:5]\n",
    "\n",
    "N_train = len(iddataset['train'])"
   ]
  },
  {
   "cell_type": "code",
   "execution_count": null,
   "metadata": {},
   "outputs": [],
   "source": [
    "N_train"
   ]
  },
  {
   "cell_type": "code",
   "execution_count": null,
   "metadata": {},
   "outputs": [],
   "source": [
    "i = 4\n",
    "\n",
    "path = iddataset['train'][i]\n",
    "\n",
    "img = load_img2(path, dir_img_train, '.png')\n",
    "img2 = hwc_to_chw(img)\n",
    "img2 = normalize(img2)\n",
    "img2 = np.expand_dims(img2, axis = 0)                \n",
    "\n",
    "img2 = torch.from_numpy(img2)\n",
    "\n",
    "if gpu:\n",
    "    img2 = img2.cuda()\n",
    "    \n",
    "with torch.no_grad():\n",
    "    mask_pred = net(img2)\n",
    "\n",
    "y_pred = mask_pred.cpu().numpy()"
   ]
  },
  {
   "cell_type": "code",
   "execution_count": null,
   "metadata": {},
   "outputs": [],
   "source": [
    "fig, axes = plt.subplots(nrows=1, ncols=1)\n",
    "fig.set_size_inches(15,10)\n",
    "\n",
    "for i in range(N_train):\n",
    "\n",
    "    path = iddataset['train'][i]\n",
    "\n",
    "    img = load_img2(path, dir_img_train, '.png')\n",
    "    img2 = hwc_to_chw(img)\n",
    "    img2 = normalize(img2)\n",
    "    img2 = np.expand_dims(img2, axis = 0)                \n",
    "\n",
    "    img2 = torch.from_numpy(img2)\n",
    "\n",
    "    if gpu:\n",
    "        img2 = img2.cuda()\n",
    "\n",
    "    with torch.no_grad():\n",
    "        mask_pred = net(img2)\n",
    "\n",
    "    y_pred = mask_pred.cpu().numpy()\n",
    "\n",
    "    axes.imshow(img)\n",
    "    axes.imshow(np.argmax(y_pred[0], axis=0), alpha=0.33)\n",
    "    fig.tight_layout()\n",
    "    fig.savefig('results/KiaBDD/2018-12-10/img{}.png'.format(i))\n",
    "    \n",
    "    print(i)"
   ]
  },
  {
   "cell_type": "code",
   "execution_count": null,
   "metadata": {},
   "outputs": [],
   "source": [
    "plt.imshow(np.argmax(y_pred[0], axis=0), alpha=0.5)"
   ]
  },
  {
   "cell_type": "code",
   "execution_count": null,
   "metadata": {},
   "outputs": [],
   "source": [
    "fig, axes = plt.subplots(nrows=1, ncols=1)\n",
    "fig.set_size_inches(15,10)\n",
    "for i in range(len(imgs)):\n",
    "    axes.imshow(imgs[i])\n",
    "    axes.imshow(np.argmax(y_preds[i][0], axis=0), alpha=0.5)\n",
    "    fig.tight_layout()\n",
    "    fig.savefig('results/KiaBDD/2018-12-04/img{}.png'.format(i))"
   ]
  },
  {
   "cell_type": "code",
   "execution_count": null,
   "metadata": {},
   "outputs": [],
   "source": []
  }
 ],
 "metadata": {
  "kernelspec": {
   "display_name": "Python 3",
   "language": "python",
   "name": "python3"
  },
  "language_info": {
   "codemirror_mode": {
    "name": "ipython",
    "version": 3
   },
   "file_extension": ".py",
   "mimetype": "text/x-python",
   "name": "python",
   "nbconvert_exporter": "python",
   "pygments_lexer": "ipython3",
   "version": "3.6.5"
  }
 },
 "nbformat": 4,
 "nbformat_minor": 2
}
