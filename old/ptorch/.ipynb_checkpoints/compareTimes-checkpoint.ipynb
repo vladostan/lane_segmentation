{
 "cells": [
  {
   "cell_type": "code",
   "execution_count": 11,
   "metadata": {},
   "outputs": [],
   "source": [
    "import os\n",
    "import matplotlib.pylab as plt\n",
    "from glob import glob\n",
    "import numpy as np\n",
    "\n",
    "# import torch\n",
    "# import torch.nn.functional as F\n",
    "\n",
    "import random\n",
    "\n",
    "from PIL import Image\n",
    "\n",
    "from network import U_Net\n",
    "\n",
    "# from torchvision import transforms\n",
    "\n",
    "# from utils import merge_masks, dense_crf\n",
    "# from utils import plot_img_and_mask\n",
    "\n",
    "import numpy as np\n",
    "import torch\n",
    "import time\n",
    "from PIL import Image"
   ]
  },
  {
   "cell_type": "code",
   "execution_count": 3,
   "metadata": {},
   "outputs": [],
   "source": [
    "def load_img(ids, directory, suffix):\n",
    "    for iid in ids:\n",
    "        img = np.array(Image.open(directory + iid + suffix))\n",
    "        yield img[:320,:1152]\n",
    "        \n",
    "# In[257]:\n",
    "def hwc_to_chw(img):\n",
    "    return np.transpose(img, axes=[2, 0, 1])\n",
    "\n",
    "# In[258]:\n",
    "def normalize(x):\n",
    "    return np.float32(x/255.)"
   ]
  },
  {
   "cell_type": "code",
   "execution_count": 19,
   "metadata": {},
   "outputs": [],
   "source": [
    "file = \"/home/kenny/Desktop/lanes-segmentation/data/images/um/um_000000.png\"\n",
    "\n",
    "x = np.array(Image.open(file))\n",
    "x = x[:320,:1152]\n",
    "x = hwc_to_chw(x)\n",
    "x = normalize(x)\n",
    "x = np.expand_dims(x, axis = 0)"
   ]
  },
  {
   "cell_type": "code",
   "execution_count": 20,
   "metadata": {},
   "outputs": [],
   "source": [
    "# Some standard imports\n",
    "from caffe2.proto import caffe2_pb2\n",
    "from caffe2.python import core, net_drawer, net_printer, visualize, workspace, utils\n",
    "\n",
    "# run caffe2 inference\n",
    "with open('old_init_net.pb', 'rb') as f:\n",
    "    init_net = f.read()\n",
    "with open('old_predict_net.pb', 'rb') as f:\n",
    "    predict_net = f.read()\n",
    "\n",
    "predictor = workspace.Predictor(init_net, predict_net)"
   ]
  },
  {
   "cell_type": "code",
   "execution_count": null,
   "metadata": {},
   "outputs": [],
   "source": [
    "prev_time = time.time()\n",
    "for i in range(10):\n",
    "    output = predictor.run([x])\n",
    "print(time.time()-prev_time)"
   ]
  },
  {
   "cell_type": "code",
   "execution_count": 16,
   "metadata": {},
   "outputs": [
    {
     "data": {
      "text/plain": [
       "(256, 256)"
      ]
     },
     "execution_count": 16,
     "metadata": {},
     "output_type": "execute_result"
    }
   ],
   "source": [
    "output[0][0,0].shape"
   ]
  },
  {
   "cell_type": "code",
   "execution_count": 18,
   "metadata": {},
   "outputs": [
    {
     "data": {
      "text/plain": [
       "<matplotlib.image.AxesImage at 0x7ffb7b8f1cc0>"
      ]
     },
     "execution_count": 18,
     "metadata": {},
     "output_type": "execute_result"
    },
    {
     "data": {
      "image/png": "[encoded data removed]",
      "text/plain": [
       "<Figure size 432x288 with 1 Axes>"
      ]
     },
     "metadata": {},
     "output_type": "display_data"
    }
   ],
   "source": [
    "plt.imshow(output[0][0,0]>0.5)"
   ]
  },
  {
   "cell_type": "code",
   "execution_count": null,
   "metadata": {},
   "outputs": [],
   "source": []
  },
  {
   "cell_type": "code",
   "execution_count": null,
   "metadata": {},
   "outputs": [],
   "source": []
  },
  {
   "cell_type": "code",
   "execution_count": null,
   "metadata": {},
   "outputs": [],
   "source": [
    "x.shape"
   ]
  },
  {
   "cell_type": "code",
   "execution_count": 8,
   "metadata": {},
   "outputs": [
    {
     "name": "stdout",
     "output_type": "stream",
     "text": [
      "27.453166484832764\n"
     ]
    }
   ],
   "source": [
    "from caffe2.python.onnx.backend import Caffe2Backend\n",
    "import onnx\n",
    "import numpy as np\n",
    "from PIL import Image\n",
    "import torch\n",
    "import time\n",
    "\n",
    "def hwc_to_chw(img):\n",
    "    return np.transpose(img, axes=[2, 0, 1])\n",
    "\n",
    "# In[258]:\n",
    "def normalize(x):\n",
    "    return np.float32(x/255.)\n",
    "\n",
    "model = onnx.load(\"oldunet.onnx\")\n",
    "prepared_backend = Caffe2Backend.prepare(model)\n",
    "# prepared_backend = Caffe2Backend.prepare(model, device='CUDA:0')\n",
    "\n",
    "file = \"/home/kenny/Desktop/lanes-segmentation/data/images/um/um_000000.png\"\n",
    "\n",
    "x = np.array(Image.open(file))\n",
    "x = x[:256,:256]\n",
    "x = hwc_to_chw(x)\n",
    "x = normalize(x)\n",
    "x = np.expand_dims(x, axis = 0)\n",
    "x = torch.from_numpy(x)\n",
    "\n",
    "prev_time = time.time()\n",
    "for i in range(10):\n",
    "    W = {model.graph.input[0].name: x.cpu().data.numpy()}\n",
    "    c2_out = prepared_backend.run(W)[0]\n",
    "print(time.time()-prev_time)"
   ]
  },
  {
   "cell_type": "code",
   "execution_count": 13,
   "metadata": {},
   "outputs": [
    {
     "data": {
      "text/plain": [
       "<matplotlib.image.AxesImage at 0x7f60900f9dd8>"
      ]
     },
     "execution_count": 13,
     "metadata": {},
     "output_type": "execute_result"
    },
    {
     "data": {
      "image/png": "[encoded data removed]",
      "text/plain": [
       "<Figure size 432x288 with 1 Axes>"
      ]
     },
     "metadata": {
      "needs_background": "light"
     },
     "output_type": "display_data"
    }
   ],
   "source": [
    "# plt.imshow(c2_out[0,0]>0.5)"
   ]
  },
  {
   "cell_type": "code",
   "execution_count": null,
   "metadata": {},
   "outputs": [],
   "source": []
  },
  {
   "cell_type": "code",
   "execution_count": null,
   "metadata": {},
   "outputs": [],
   "source": [
    "import torch\n",
    "from unet import UNet\n",
    "import numpy as np\n",
    "\n",
    "net = UNet(n_channels=3, n_classes=1)\n",
    "net.cpu()\n",
    "net.load_state_dict(torch.load(\"checkpoints/oldUnet.pth\", map_location='cpu'))\n",
    "net.eval()"
   ]
  },
  {
   "cell_type": "code",
   "execution_count": null,
   "metadata": {},
   "outputs": [],
   "source": [
    "x = np.array(Image.open(file))\n",
    "x = x[:256,:256]\n",
    "x = hwc_to_chw(x)\n",
    "x = normalize(x)\n",
    "x = np.expand_dims(x, axis = 0)\n",
    "x = torch.from_numpy(x)"
   ]
  },
  {
   "cell_type": "code",
   "execution_count": null,
   "metadata": {},
   "outputs": [],
   "source": [
    "prev_time = time.time()\n",
    "for i in range(10):\n",
    "    output = net(x)\n",
    "print(time.time()-prev_time)"
   ]
  },
  {
   "cell_type": "code",
   "execution_count": null,
   "metadata": {},
   "outputs": [],
   "source": []
  }
 ],
 "metadata": {
  "kernelspec": {
   "display_name": "Python 3",
   "language": "python",
   "name": "python3"
  },
  "language_info": {
   "codemirror_mode": {
    "name": "ipython",
    "version": 3
   },
   "file_extension": ".py",
   "mimetype": "text/x-python",
   "name": "python",
   "nbconvert_exporter": "python",
   "pygments_lexer": "ipython3",
   "version": "3.6.5"
  }
 },
 "nbformat": 4,
 "nbformat_minor": 2
}
