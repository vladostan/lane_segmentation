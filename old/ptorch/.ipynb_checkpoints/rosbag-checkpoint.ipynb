{
 "cells": [
  {
   "cell_type": "code",
   "execution_count": 28,
   "metadata": {},
   "outputs": [],
   "source": [
    "import os\n",
    "import cv2\n",
    "import numpy as np\n",
    "\n",
    "import rosbag\n",
    "from sensor_msgs.msg import Image\n",
    "from sensor_msgs.msg import CompressedImage\n",
    "from cv_bridge import CvBridge"
   ]
  },
  {
   "cell_type": "code",
   "execution_count": 62,
   "metadata": {},
   "outputs": [],
   "source": [
    "bag_name = \"parking_1\"\n",
    "bag_file = \"/home/kenny/Desktop/kiadatasets/\"+ bag_name + \".bag\"\n",
    "output_dir = \"/home/kenny/Desktop/lanes-segmentation/data/images/\"\n",
    "image_topic = \"/pylon_camera_node/image_raw/compressed\"\n",
    "# image_topic = \"sensor_msgs/CompressedImage\"\n",
    "image_topic = \"/apollo/sensor/camera/perception/image_front_camera/compressed\"\n",
    "compressed = True\n",
    "step = 50"
   ]
  },
  {
   "cell_type": "code",
   "execution_count": 63,
   "metadata": {},
   "outputs": [],
   "source": [
    "if not os.path.exists(output_dir+bag_name):\n",
    "    os.makedirs(output_dir+bag_name)"
   ]
  },
  {
   "cell_type": "code",
   "execution_count": 64,
   "metadata": {},
   "outputs": [],
   "source": [
    "bag = rosbag.Bag(bag_file, \"r\")\n",
    "bridge = CvBridge()\n",
    "count = 0"
   ]
  },
  {
   "cell_type": "code",
   "execution_count": 65,
   "metadata": {},
   "outputs": [
    {
     "data": {
      "text/plain": [
       "TypesAndTopicsTuple(msg_types={'pb_msgs/Chassis': 'd6a21658031a6a4615858d76f8b5178e', 'pb_msgs/LocalizationEstimate': '503c8e75900db180bc61534806a37cfb', 'pb_msgs/StaticInfo': '1f9ebf2f7706a44c409186ab47c0fba0', 'pb_msgs/SystemStatus': '8facb475fa30a9165ee1b95fbb179dd2', 'sensor_msgs/CompressedImage': '8f7a12909da2c9d3332d540a0977563f', 'sensor_msgs/Imu': '6a62c6daae103f4ff57a132d6f95cec2', 'sensor_msgs/PointCloud2': '1158d486dd51d683ce2f1be655c3c181', 'tf2_msgs/TFMessage': '94810edda583a504dfda3829e70d7eec'}, topics={'/apollo/canbus/chassis': TopicTuple(msg_type='pb_msgs/Chassis', message_count=23857, connections=1, frequency=97.86970319208513), '/apollo/localization/pose': TopicTuple(msg_type='pb_msgs/LocalizationEstimate', message_count=23824, connections=1, frequency=99.28051695978412), '/apollo/monitor/static_info': TopicTuple(msg_type='pb_msgs/StaticInfo', message_count=6, connections=1, frequency=0.024839010139000313), '/apollo/monitor/system_status': TopicTuple(msg_type='pb_msgs/SystemStatus', message_count=30, connections=1, frequency=0.12450406432968043), '/apollo/sensor/camera/perception/image_front_camera/compressed': TopicTuple(msg_type='sensor_msgs/CompressedImage', message_count=3488, connections=1, frequency=14.940970700863835), '/apollo/sensor/velodyne16/PointCloud2': TopicTuple(msg_type='sensor_msgs/PointCloud2', message_count=2369, connections=1, frequency=9.91431147922672), '/imu/data': TopicTuple(msg_type='sensor_msgs/Imu', message_count=95565, connections=1, frequency=529.3833144011107), '/tf': TopicTuple(msg_type='tf2_msgs/TFMessage', message_count=59247, connections=4, frequency=304.57512163241597)})"
      ]
     },
     "execution_count": 65,
     "metadata": {},
     "output_type": "execute_result"
    }
   ],
   "source": [
    "bag.get_type_and_topic_info()"
   ]
  },
  {
   "cell_type": "code",
   "execution_count": 66,
   "metadata": {},
   "outputs": [
    {
     "name": "stderr",
     "output_type": "stream",
     "text": [
      "/home/kenny/anaconda3/lib/python3.6/site-packages/ipykernel_launcher.py:5: DeprecationWarning: The binary mode of fromstring is deprecated, as it behaves surprisingly on unicode inputs. Use frombuffer instead\n",
      "  \"\"\"\n"
     ]
    },
    {
     "name": "stdout",
     "output_type": "stream",
     "text": [
      "Wrote image 0\n",
      "Wrote image 50\n",
      "Wrote image 100\n",
      "Wrote image 150\n",
      "Wrote image 200\n",
      "Wrote image 250\n",
      "Wrote image 300\n",
      "Wrote image 350\n",
      "Wrote image 400\n",
      "Wrote image 450\n",
      "Wrote image 500\n",
      "Wrote image 550\n",
      "Wrote image 600\n",
      "Wrote image 650\n",
      "Wrote image 700\n",
      "Wrote image 750\n",
      "Wrote image 800\n",
      "Wrote image 850\n",
      "Wrote image 900\n",
      "Wrote image 950\n",
      "Wrote image 1000\n",
      "Wrote image 1050\n",
      "Wrote image 1100\n",
      "Wrote image 1150\n",
      "Wrote image 1200\n",
      "Wrote image 1250\n",
      "Wrote image 1300\n",
      "Wrote image 1350\n",
      "Wrote image 1400\n",
      "Wrote image 1450\n",
      "Wrote image 1500\n",
      "Wrote image 1550\n",
      "Wrote image 1600\n",
      "Wrote image 1650\n",
      "Wrote image 1700\n",
      "Wrote image 1750\n",
      "Wrote image 1800\n",
      "Wrote image 1850\n",
      "Wrote image 1900\n",
      "Wrote image 1950\n",
      "Wrote image 2000\n",
      "Wrote image 2050\n",
      "Wrote image 2100\n",
      "Wrote image 2150\n",
      "Wrote image 2200\n",
      "Wrote image 2250\n",
      "Wrote image 2300\n",
      "Wrote image 2350\n",
      "Wrote image 2400\n",
      "Wrote image 2450\n",
      "Wrote image 2500\n",
      "Wrote image 2550\n",
      "Wrote image 2600\n",
      "Wrote image 2650\n",
      "Wrote image 2700\n",
      "Wrote image 2750\n",
      "Wrote image 2800\n",
      "Wrote image 2850\n",
      "Wrote image 2900\n",
      "Wrote image 2950\n",
      "Wrote image 3000\n",
      "Wrote image 3050\n",
      "Wrote image 3100\n",
      "Wrote image 3150\n",
      "Wrote image 3200\n",
      "Wrote image 3250\n",
      "Wrote image 3300\n",
      "Wrote image 3350\n",
      "Wrote image 3400\n",
      "Wrote image 3450\n"
     ]
    }
   ],
   "source": [
    "for topic, msg, t in bag.read_messages(topics=[image_topic]):\n",
    "    if count % step == 0:\n",
    "        \n",
    "        if compressed:\n",
    "            raw_data = np.fromstring(msg.data, np.uint8)\n",
    "            cv_img = cv2.imdecode(raw_data, cv2.IMREAD_COLOR)\n",
    "        else:\n",
    "            cv_img = bridge.imgmsg_to_cv2(msg, desired_encoding=\"passthrough\")\n",
    "\n",
    "        cv2.imwrite(os.path.join(output_dir+\"unet/\", \"frame%06i.png\" % count), cv_img)\n",
    "        print(\"Wrote image %i\" % count)\n",
    "\n",
    "    count += 1   \n",
    "    \n",
    "#     if count == 5:\n",
    "#         break\n",
    "\n",
    "bag.close()"
   ]
  },
  {
   "cell_type": "code",
   "execution_count": null,
   "metadata": {},
   "outputs": [],
   "source": []
  }
 ],
 "metadata": {
  "kernelspec": {
   "display_name": "Python 3",
   "language": "python",
   "name": "python3"
  },
  "language_info": {
   "codemirror_mode": {
    "name": "ipython",
    "version": 3
   },
   "file_extension": ".py",
   "mimetype": "text/x-python",
   "name": "python",
   "nbconvert_exporter": "python",
   "pygments_lexer": "ipython3",
   "version": "3.6.5"
  }
 },
 "nbformat": 4,
 "nbformat_minor": 2
}
