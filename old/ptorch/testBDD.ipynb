{
 "cells": [
  {
   "cell_type": "code",
   "execution_count": null,
   "metadata": {},
   "outputs": [],
   "source": [
    "import sys\n",
    "import os\n",
    "import numpy as np\n",
    "from PIL import Image\n",
    "import datetime\n",
    "\n",
    "import torch\n",
    "import torch.nn as nn\n",
    "from torch import optim"
   ]
  },
  {
   "cell_type": "code",
   "execution_count": null,
   "metadata": {},
   "outputs": [],
   "source": [
    "def get_ids(directory):\n",
    "    \"\"\"Returns a list of the ids in the directory\"\"\"\n",
    "    return (f[:-4] for f in os.listdir(directory))"
   ]
  },
  {
   "cell_type": "code",
   "execution_count": null,
   "metadata": {},
   "outputs": [],
   "source": [
    "def get_ids(directory):\n",
    "    \"\"\"Returns a list of the ids in the directory\"\"\"\n",
    "    return (f[:-4] for f in os.listdir(directory))\n",
    "\n",
    "# In[255]:\n",
    "#def load_img(ids, directory, suffix):\n",
    "#    for iid in ids:\n",
    "#        \n",
    "#        img = Image.open(directory + iid + suffix)\n",
    "#        img = img.resize((640,360))\n",
    "#        img = np.array(img)\n",
    "#        yield img\n",
    "        \n",
    "def load_img2(iid, directory, suffix):\n",
    "        \n",
    "    img = Image.open(directory + iid + suffix)\n",
    "    img = img.resize((640,360))\n",
    "#    img = img.resize((320,180))\n",
    "\n",
    "    img = np.array(img)\n",
    "        \n",
    "    return img\n",
    "\n",
    "# In[256]:\n",
    "#def load_mask(ids, directory, suffix):\n",
    "#    for iid in ids:\n",
    "#        \n",
    "#        msk = Image.open(directory + iid + \"_drivable_id\" + suffix)\n",
    "#        msk = msk.resize((640,360))\n",
    "#        msk = np.array(msk).astype('float32')\n",
    "#        yield msk\n",
    "        \n",
    "def load_mask2(iid, directory, suffix):\n",
    "        \n",
    "    msk = Image.open(directory + iid + \"_drivable_id\" + suffix)\n",
    "    msk = msk.resize((640,360))\n",
    "#    msk = msk.resize((320,180))\n",
    "\n",
    "    msk = np.array(msk).astype('float32')\n",
    "    return msk\n",
    "\n",
    "# In[257]:\n",
    "def hwc_to_chw(img):\n",
    "    return np.transpose(img, axes=[2, 0, 1])\n",
    "\n",
    "# In[258]:\n",
    "def normalize(x):\n",
    "    return np.float32(x/255.)"
   ]
  },
  {
   "cell_type": "code",
   "execution_count": null,
   "metadata": {},
   "outputs": [],
   "source": [
    "epochs = 100\n",
    "batch_size = 1\n",
    "lr = 0.0001\n",
    "save_cp = False\n",
    "gpu = False\n",
    "load = True"
   ]
  },
  {
   "cell_type": "code",
   "execution_count": null,
   "metadata": {},
   "outputs": [],
   "source": [
    "from unet import UNet_multiclass\n",
    "\n",
    "net = UNet_multiclass(n_channels=3, n_classes=3)\n",
    "\n",
    "if gpu: \n",
    "    net.cuda()\n",
    "    \n",
    "if load:\n",
    "    weights = \"checkpoints/driveable/BDD_3_CP19.pth\"\n",
    "    if torch.cuda.is_available():\n",
    "        net.load_state_dict(torch.load(weights))\n",
    "    else:\n",
    "        net.load_state_dict(torch.load(weights, map_location='cpu'))\n",
    "    print('Model loaded from {}'.format(weights))\n",
    "    \n",
    "net.eval()"
   ]
  },
  {
   "cell_type": "code",
   "execution_count": null,
   "metadata": {},
   "outputs": [],
   "source": [
    "path = \"/home/kenny/Desktop/bdd\"\n",
    "# path = \"/home/datasets/bdd/bdd100k\"\n",
    "\n",
    "dir_img_train = path + '/images/100k/train/'\n",
    "dir_img_val = path + '/images/100k/val/'\n",
    "\n",
    "dir_mask_train = path + '/drivable_maps/labels/train/'\n",
    "dir_mask_val = path + '/drivable_maps/labels/val/'\n",
    "\n",
    "dir_checkpoint = 'checkpoints/driveable/'\n",
    "\n",
    "ids_train = get_ids(dir_img_train)\n",
    "ids_val = get_ids(dir_img_val)\n",
    "\n",
    "iddataset = dict()\n",
    "\n",
    "iddataset['train'] = list(ids_train)\n",
    "iddataset['val'] = list(ids_val)\n",
    "\n",
    "iddataset['train'] = iddataset['train'][:5]\n",
    "iddataset['val'] = iddataset['val'][:5]\n",
    "\n",
    "N_train = len(iddataset['train'])\n",
    "N_val = len(iddataset['val'])"
   ]
  },
  {
   "cell_type": "code",
   "execution_count": null,
   "metadata": {},
   "outputs": [],
   "source": [
    "N_train"
   ]
  },
  {
   "cell_type": "code",
   "execution_count": null,
   "metadata": {},
   "outputs": [],
   "source": [
    "i = 3\n",
    "\n",
    "fname = 'b2de6f59-9f74dea1'\n",
    "img = load_img2(fname, dir_img_val, '.jpg')\n",
    "\n",
    "# img = load_img2(iddataset['train'][i], dir_img_train, '.jpg')\n",
    "img = hwc_to_chw(img)\n",
    "img = normalize(img)\n",
    "img = np.expand_dims(img, axis = 0)                \n",
    "\n",
    "# msk = load_mask2(iddataset['train'][i], dir_mask_train, '.png')\n",
    "msk = load_mask2(fname, dir_mask_val, '.png')\n",
    "\n",
    "msk = np.expand_dims(msk, axis = 0)\n",
    "\n",
    "img = torch.from_numpy(img)\n",
    "\n",
    "if gpu:\n",
    "    img = img.cuda()"
   ]
  },
  {
   "cell_type": "code",
   "execution_count": null,
   "metadata": {},
   "outputs": [],
   "source": [
    "with torch.no_grad():\n",
    "    mask_pred = net(img)"
   ]
  },
  {
   "cell_type": "code",
   "execution_count": null,
   "metadata": {},
   "outputs": [],
   "source": [
    "y_pred = mask_pred.cpu().numpy()"
   ]
  },
  {
   "cell_type": "code",
   "execution_count": null,
   "metadata": {},
   "outputs": [],
   "source": [
    "import matplotlib.pyplot as plt"
   ]
  },
  {
   "cell_type": "code",
   "execution_count": null,
   "metadata": {},
   "outputs": [],
   "source": [
    "# img = load_img2(iddataset['train'][i], dir_img_train, '.jpg')\n",
    "img = load_img2(fname, dir_img_val, '.jpg')\n",
    "\n",
    "plt.imshow(img)"
   ]
  },
  {
   "cell_type": "code",
   "execution_count": null,
   "metadata": {},
   "outputs": [],
   "source": [
    "plt.imshow(np.argmax(y_pred[0], axis=0))"
   ]
  },
  {
   "cell_type": "code",
   "execution_count": null,
   "metadata": {},
   "outputs": [],
   "source": [
    "plt.imshow(msk[0])"
   ]
  },
  {
   "cell_type": "code",
   "execution_count": null,
   "metadata": {},
   "outputs": [],
   "source": [
    "import webcolors\n",
    "\n",
    "hex_colors = ['#000000', '#0000FF', '#FF0000']\n",
    "\n",
    "rgb_colors = []\n",
    "\n",
    "for hex_color in hex_colors:\n",
    "    rgb_colors.append(webcolors.hex_to_rgb(hex_color))\n",
    "    \n",
    "def colorize(mask, colors = np.array(rgb_colors)):\n",
    "    colorMask = np.zeros([mask.shape[0], mask.shape[1], 3],dtype=np.uint8)\n",
    "    for r in range(mask.shape[0]):\n",
    "        for c in range(mask.shape[1]):\n",
    "            colorMask[r,c,] = colors[mask[r,c]]\n",
    "\n",
    "    return colorMask"
   ]
  },
  {
   "cell_type": "code",
   "execution_count": null,
   "metadata": {},
   "outputs": [],
   "source": [
    "b = np.argmax(y_pred[0], axis=0)\n",
    "# b = colorize(b)\n",
    "gt = colorize(np.uint8(msk[0]))"
   ]
  },
  {
   "cell_type": "code",
   "execution_count": null,
   "metadata": {},
   "outputs": [],
   "source": [
    "plt.imshow(img)\n",
    "plt.imshow(b, alpha=0.25)"
   ]
  },
  {
   "cell_type": "code",
   "execution_count": null,
   "metadata": {},
   "outputs": [],
   "source": [
    "plt.imshow(img)\n",
    "plt.imshow(gt, alpha=0.25)"
   ]
  },
  {
   "cell_type": "code",
   "execution_count": null,
   "metadata": {},
   "outputs": [],
   "source": [
    "show = img.copy()\n",
    "for i in range(b.shape[0]):\n",
    "    for j in range(b.shape[1]):\n",
    "        if b[i,j] == 1:\n",
    "            show[i,j] = (0,0,255)\n",
    "        elif b[i,j] == 2:\n",
    "            show[i,j] = (255,0,0)"
   ]
  },
  {
   "cell_type": "code",
   "execution_count": null,
   "metadata": {},
   "outputs": [],
   "source": [
    "plt.imshow(show)"
   ]
  },
  {
   "cell_type": "code",
   "execution_count": null,
   "metadata": {},
   "outputs": [],
   "source": [
    "show2 = Image.fromarray(show)\n",
    "show2.save(\"bdd_val_pred_2\", \"PNG\")"
   ]
  },
  {
   "cell_type": "code",
   "execution_count": null,
   "metadata": {},
   "outputs": [],
   "source": [
    "show = img.copy()\n",
    "for i in range(msk[0].shape[0]):\n",
    "    for j in range(msk[0].shape[1]):\n",
    "        if msk[0,i,j] == 1:\n",
    "            show[i,j] = (0,0,255)\n",
    "        elif msk[0,i,j] == 2:\n",
    "            show[i,j] = (255,0,0)"
   ]
  },
  {
   "cell_type": "code",
   "execution_count": null,
   "metadata": {},
   "outputs": [],
   "source": [
    "plt.imshow(show)"
   ]
  },
  {
   "cell_type": "code",
   "execution_count": null,
   "metadata": {},
   "outputs": [],
   "source": [
    "from skimage import data, color, io, img_as_float\n",
    "\n",
    "img_hsv = color.rgb2hsv(a)\n",
    "color_mask_hsv = color.rgb2hsv(b)"
   ]
  },
  {
   "cell_type": "code",
   "execution_count": null,
   "metadata": {},
   "outputs": [],
   "source": [
    "alpha = 0.5\n",
    "\n",
    "img_hsv[..., 0] = color_mask_hsv[..., 0]\n",
    "img_hsv[..., 1] = color_mask_hsv[..., 1] * alpha\n",
    "\n",
    "img_masked = color.hsv2rgb(img_hsv)\n",
    "\n",
    "plt.imshow(img_masked)"
   ]
  },
  {
   "cell_type": "code",
   "execution_count": null,
   "metadata": {},
   "outputs": [],
   "source": [
    "plt.imshow(b)"
   ]
  },
  {
   "cell_type": "code",
   "execution_count": null,
   "metadata": {},
   "outputs": [],
   "source": [
    "plt.imshow(np.ma.masked_array(img, mask=np.bool(b.any())))"
   ]
  },
  {
   "cell_type": "code",
   "execution_count": null,
   "metadata": {},
   "outputs": [],
   "source": [
    "np.unique(e)"
   ]
  },
  {
   "cell_type": "code",
   "execution_count": null,
   "metadata": {},
   "outputs": [],
   "source": [
    "e = b == 1"
   ]
  },
  {
   "cell_type": "code",
   "execution_count": null,
   "metadata": {},
   "outputs": [],
   "source": [
    "e = np.dstack((e, e, e))"
   ]
  },
  {
   "cell_type": "code",
   "execution_count": null,
   "metadata": {},
   "outputs": [],
   "source": [
    "e == True"
   ]
  },
  {
   "cell_type": "code",
   "execution_count": null,
   "metadata": {},
   "outputs": [],
   "source": [
    "img2.shape"
   ]
  },
  {
   "cell_type": "code",
   "execution_count": null,
   "metadata": {},
   "outputs": [],
   "source": [
    "plt.imshow(np.uint8(e))"
   ]
  },
  {
   "cell_type": "code",
   "execution_count": null,
   "metadata": {},
   "outputs": [],
   "source": [
    "e.dtype"
   ]
  },
  {
   "cell_type": "code",
   "execution_count": null,
   "metadata": {},
   "outputs": [],
   "source": [
    "e"
   ]
  },
  {
   "cell_type": "code",
   "execution_count": null,
   "metadata": {},
   "outputs": [],
   "source": []
  }
 ],
 "metadata": {
  "kernelspec": {
   "display_name": "Python 3",
   "language": "python",
   "name": "python3"
  },
  "language_info": {
   "codemirror_mode": {
    "name": "ipython",
    "version": 3
   },
   "file_extension": ".py",
   "mimetype": "text/x-python",
   "name": "python",
   "nbconvert_exporter": "python",
   "pygments_lexer": "ipython3",
   "version": "3.6.5"
  }
 },
 "nbformat": 4,
 "nbformat_minor": 2
}
